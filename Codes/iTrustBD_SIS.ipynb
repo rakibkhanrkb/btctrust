{
  "cells": [
    {
      "cell_type": "markdown",
      "metadata": {
        "id": "view-in-github",
        "colab_type": "text"
      },
      "source": [
        "<a href=\"https://colab.research.google.com/github/DataParadox/iTrustBD/blob/main/Codes/iTrustBD_SIS.ipynb\" target=\"_parent\"><img src=\"https://colab.research.google.com/assets/colab-badge.svg\" alt=\"Open In Colab\"/></a>"
      ]
    },
    {
      "cell_type": "markdown",
      "metadata": {
        "id": "jQdSctx6OvSB"
      },
      "source": [
        "# Connect to Google Drive"
      ]
    },
    {
      "cell_type": "code",
      "execution_count": null,
      "metadata": {
        "colab": {
          "base_uri": "https://localhost:8080/"
        },
        "id": "UT2pS4WmEW5t",
        "outputId": "e02707ee-f95f-44ea-e3b1-16c5feb04ae8"
      },
      "outputs": [
        {
          "output_type": "stream",
          "name": "stdout",
          "text": [
            "Mounted at /content/drive\n"
          ]
        }
      ],
      "source": [
        "from google.colab import drive\n",
        "drive.mount('/content/drive')"
      ]
    },
    {
      "cell_type": "code",
      "execution_count": null,
      "metadata": {
        "colab": {
          "base_uri": "https://localhost:8080/"
        },
        "id": "Kxvr2OftGKD9",
        "outputId": "01838e43-256b-4d9f-bf48-8a734522f8cd"
      },
      "outputs": [
        {
          "output_type": "stream",
          "name": "stdout",
          "text": [
            "/content/drive/My Drive/PG/CSE6413 Network Science/Project Works\n"
          ]
        }
      ],
      "source": [
        "%cd '/content/drive/My Drive/PG/CSE6413 Network Science/Project Works/'"
      ]
    },
    {
      "cell_type": "markdown",
      "metadata": {
        "id": "xTabGOXrOBxd"
      },
      "source": [
        "# Set Datasets"
      ]
    },
    {
      "cell_type": "code",
      "execution_count": null,
      "metadata": {
        "id": "buizkBgvOBEp"
      },
      "outputs": [],
      "source": [
        "def setDatasets(dataset):           # dataset -> Name of the dataset, i.e. 'soc-sign-bitcoinalpha-dataset' \n",
        "  import pandas as pd\n",
        "  \n",
        "  nodeTable = pd.read_csv('./iTrustBD/BTC-Alpha/'+dataset+'-nodes-table.csv')\n",
        "  edgeTable = pd.read_csv('./iTrustBD/BTC-Alpha/'+dataset+'-edge-table.csv')\n",
        "  nodeTable['behavior'] = nodeTable['Class']\n",
        "\n",
        "  edgeTableTargetSource = edgeTable[['Target', 'Source']].astype(str)\n",
        "  neighborTableIn = edgeTableTargetSource.groupby(['Target'], as_index=False).agg(lambda col: ', '.join(col))\n",
        "  neighborTableIn.columns = neighborTableIn.columns.str.replace('Source', 'Neighbors')\n",
        "\n",
        "  neighborTableOut = edgeTableTargetSource.groupby(['Source'], as_index=False).agg(lambda col: ', '.join(col))\n",
        "  neighborTableOut.columns = neighborTableOut.columns.str.replace('Target', 'Neighbors')\n",
        "\n",
        "  return nodeTable, edgeTable, neighborTableIn, neighborTableOut"
      ]
    },
    {
      "cell_type": "markdown",
      "metadata": {
        "id": "CCdk5SRvLyR_"
      },
      "source": [
        "# Generate Random Probability"
      ]
    },
    {
      "cell_type": "code",
      "execution_count": null,
      "metadata": {
        "id": "mLbAN59TIXMd"
      },
      "outputs": [],
      "source": [
        "def randProbability(min, max):\n",
        "  # generate random floating point values\n",
        "  import random\n",
        "  return min + (random.random() * (max - min))"
      ]
    },
    {
      "cell_type": "markdown",
      "metadata": {
        "id": "kuDUvDleUpke"
      },
      "source": [
        "# Setting of Parameters"
      ]
    },
    {
      "cell_type": "code",
      "execution_count": null,
      "metadata": {
        "id": "Kc7JaCmlU5_i"
      },
      "outputs": [],
      "source": [
        "def setParameters():\n",
        "  beta_T = 0.5\n",
        "  beta_S = beta_T\n",
        "\n",
        "  meu_T = 0.25\n",
        "  meu_S = meu_T\n",
        "\n",
        "  return beta_T, beta_S, meu_T, meu_S"
      ]
    },
    {
      "cell_type": "markdown",
      "metadata": {
        "id": "DwwBetVhV9Pu"
      },
      "source": [
        "# Calculating Propotion of Neighbors"
      ]
    },
    {
      "cell_type": "code",
      "execution_count": null,
      "metadata": {
        "id": "hhGoJaSYV8uo"
      },
      "outputs": [],
      "source": [
        "def neighborProportion(nodeId): #nodeId, nodeTable, neighborTableIn, neighborTableOut\n",
        "  setNeighbor = set(list(map(int, neighborTableIn.loc[neighborTableIn['Target'].astype(int) == int(nodeId)]['Neighbors'].item().split(\",\"))))\n",
        "  setNeighbor = set(list(map(int, neighborTableOut.loc[neighborTableOut['Source'].astype(int) == int(nodeId)]['Neighbors'].item().split(\",\")))).union(setNeighbor)\n",
        "\n",
        "  countTrusty = 0\n",
        "  countSuspecious = 0\n",
        "  countNormal = 0\n",
        "\n",
        "  for neighbor in setNeighbor:\n",
        "    if int(nodeTable.loc[nodeTable['Id'].astype(int) == int(neighbor)].behavior.to_string(index=False)) == 0:\n",
        "      countNormal = countNormal + 1\n",
        "    elif int(nodeTable.loc[nodeTable['Id'].astype(int) == int(neighbor)].behavior.to_string(index=False)) == 1:\n",
        "      countTrusty = countTrusty + 1\n",
        "    else:\n",
        "      countSuspecious = countSuspecious + 1\n",
        "  \n",
        "  return countTrusty/(countTrusty+countNormal+countSuspecious), countNormal/(countTrusty+countNormal+countSuspecious), countSuspecious/(countTrusty+countNormal+countSuspecious)\n",
        "  #return sigma_T, sigma_N, sigma_S"
      ]
    },
    {
      "cell_type": "markdown",
      "metadata": {
        "id": "lRHkDOvqQMDj"
      },
      "source": [
        "# Susceptible-Infected-Susceptible (SIS) Model"
      ]
    },
    {
      "cell_type": "code",
      "execution_count": null,
      "metadata": {
        "id": "3HtIai12QItb"
      },
      "outputs": [],
      "source": [
        "def modelSIS(epoch): #nodeTable, neighborTableIn, neighborTableOut\n",
        "  import pandas as pd\n",
        "  beta_T, beta_S, meu_T, meu_S = setParameters()\n",
        "  for index in nodeTable.index:\n",
        "    try:\n",
        "      sigma_T, sigma_N, sigma_S = neighborProportion(nodeTable.Id[index])\n",
        "      if(nodeTable.behavior[index].astype(int) == 0):\n",
        "        P_NT = beta_T*sigma_T\n",
        "        P_NS = beta_S*sigma_S\n",
        "        if((P_NT >= P_NS) and (randProbability(0, 1) > (1 - P_NT))):\n",
        "          nodeTable.at[index, 'behavior'] = 1 #nodeTable.behavior[index] = 1\n",
        "        elif((P_NT < P_NS) and (randProbability(0, 1) > (1 - P_NS))):\n",
        "          nodeTable.at[index, 'behavior'] = -1 #nodeTable.behavior[index] = -1\n",
        "      elif((nodeTable.behavior[index].astype(int) == 1) and (randProbability(0, 1) > (1 - meu_T))):\n",
        "        nodeTable.at[index, 'behavior'] = 0 #nodeTable.behavior[index] = 0\n",
        "      elif((nodeTable.behavior[index].astype(int) == -1) and (randProbability(0, 1) > (1 - meu_S))):\n",
        "        nodeTable.at[index, 'behavior'] = 0 #nodeTable.behavior[index] = 0\n",
        "    except:\n",
        "      pass\n",
        "    filepath = '/content/drive/My Drive/PG/CSE6413 Network Science/Project Works/Datasets/Epoch_Out/node_table_SIS_{}.csv'.format(epoch)\n",
        "    nodeTable.to_csv(filepath, index=False)\n",
        "  #return nodeTable"
      ]
    },
    {
      "cell_type": "markdown",
      "metadata": {
        "id": "-wy2j0djSBs7"
      },
      "source": [
        "# Behavior Spread"
      ]
    },
    {
      "cell_type": "code",
      "execution_count": null,
      "metadata": {
        "id": "jeAcCxDeRDSW"
      },
      "outputs": [],
      "source": [
        "def behaviorSpread(dataset, total_epoch):\n",
        "  import pandas as pd\n",
        "  import random\n",
        "  global nodeTable, edgeTable, neighborTableIn, neighborTableOut\n",
        "  nodeTable, edgeTable, neighborTableIn, neighborTableOut = setDatasets(dataset)\n",
        "  filepath = '/content/drive/My Drive/PG/CSE6413 Network Science/Project Works/Datasets/Epoch_Out/node_table_SIS_{}.csv'.format(0)\n",
        "  nodeTable.to_csv(filepath, index=False)\n",
        "  epoch = 0\n",
        "  while epoch < total_epoch:\n",
        "    epoch = epoch + 1\n",
        "    try:\n",
        "      modelSIS(epoch)\n",
        "    except:\n",
        "      pass"
      ]
    },
    {
      "cell_type": "code",
      "execution_count": null,
      "metadata": {
        "id": "2UnDpkRIUimo"
      },
      "outputs": [],
      "source": [
        "dataset = 'soc-sign-bitcoinalpha-dataset'\n",
        "behaviorSpread(dataset, total_epoch=100)"
      ]
    },
    {
      "cell_type": "code",
      "execution_count": null,
      "metadata": {
        "id": "izFr9z4Dh_8z"
      },
      "outputs": [],
      "source": []
    }
  ],
  "metadata": {
    "colab": {
      "provenance": [],
      "authorship_tag": "ABX9TyOwf5Iet/perQpmoxCY7vmW",
      "include_colab_link": true
    },
    "gpuClass": "standard",
    "kernelspec": {
      "display_name": "Python 3",
      "name": "python3"
    },
    "language_info": {
      "name": "python"
    }
  },
  "nbformat": 4,
  "nbformat_minor": 0
}