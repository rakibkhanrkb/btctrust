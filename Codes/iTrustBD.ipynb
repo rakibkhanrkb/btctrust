{
  "nbformat": 4,
  "nbformat_minor": 0,
  "metadata": {
    "colab": {
      "provenance": [],
      "authorship_tag": "ABX9TyMGETXP1hQX8Blj9Pni+mW+",
      "include_colab_link": true
    },
    "kernelspec": {
      "name": "python3",
      "display_name": "Python 3"
    },
    "language_info": {
      "name": "python"
    },
    "gpuClass": "standard"
  },
  "cells": [
    {
      "cell_type": "markdown",
      "metadata": {
        "id": "view-in-github",
        "colab_type": "text"
      },
      "source": [
        "<a href=\"https://colab.research.google.com/github/DataParadox/iTrustBD/blob/main/Codes/iTrustBD.ipynb\" target=\"_parent\"><img src=\"https://colab.research.google.com/assets/colab-badge.svg\" alt=\"Open In Colab\"/></a>"
      ]
    },
    {
      "cell_type": "markdown",
      "source": [
        "# Clone Project from GitHub and Connect to Google Drive"
      ],
      "metadata": {
        "id": "jQdSctx6OvSB"
      }
    },
    {
      "cell_type": "code",
      "execution_count": null,
      "metadata": {
        "id": "UT2pS4WmEW5t",
        "colab": {
          "base_uri": "https://localhost:8080/"
        },
        "outputId": "2761ba0e-f492-42e0-f46f-11bdb053c876"
      },
      "outputs": [
        {
          "output_type": "stream",
          "name": "stdout",
          "text": [
            "Mounted at /content/drive\n"
          ]
        }
      ],
      "source": [
        "from google.colab import drive\n",
        "drive.mount('/content/drive')"
      ]
    },
    {
      "cell_type": "code",
      "source": [
        "%cd '/content/drive/My Drive/PG/CSE6413 Network Science/Project Works/'"
      ],
      "metadata": {
        "id": "Kxvr2OftGKD9",
        "colab": {
          "base_uri": "https://localhost:8080/"
        },
        "outputId": "dff378f2-0875-43c3-f5d9-5f16f8339e23"
      },
      "execution_count": null,
      "outputs": [
        {
          "output_type": "stream",
          "name": "stdout",
          "text": [
            "/content/drive/My Drive/PG/CSE6413 Network Science/Project Works\n"
          ]
        }
      ]
    },
    {
      "cell_type": "code",
      "source": [
        "!git clone 'https://github.com/DataParadox/iTrustBD.git'"
      ],
      "metadata": {
        "id": "tVBntyckGdcf"
      },
      "execution_count": null,
      "outputs": []
    },
    {
      "cell_type": "code",
      "source": [
        "%cd iTrustBD"
      ],
      "metadata": {
        "id": "2VPKOL34HQQv",
        "colab": {
          "base_uri": "https://localhost:8080/"
        },
        "outputId": "4b499a1c-5587-421f-c358-775c7958328f"
      },
      "execution_count": null,
      "outputs": [
        {
          "output_type": "stream",
          "name": "stdout",
          "text": [
            "/content/drive/My Drive/PG/CSE6413 Network Science/Project Works/iTrustBD\n"
          ]
        }
      ]
    },
    {
      "cell_type": "code",
      "source": [
        "!git pull"
      ],
      "metadata": {
        "colab": {
          "base_uri": "https://localhost:8080/"
        },
        "id": "kvDZWOQQ72xE",
        "outputId": "f35233e3-4265-4103-ffb5-f11cbc739d95"
      },
      "execution_count": null,
      "outputs": [
        {
          "output_type": "stream",
          "name": "stdout",
          "text": [
            "remote: Enumerating objects: 11, done.\u001b[K\n",
            "remote: Counting objects:   9% (1/11)\u001b[K\rremote: Counting objects:  18% (2/11)\u001b[K\rremote: Counting objects:  27% (3/11)\u001b[K\rremote: Counting objects:  36% (4/11)\u001b[K\rremote: Counting objects:  45% (5/11)\u001b[K\rremote: Counting objects:  54% (6/11)\u001b[K\rremote: Counting objects:  63% (7/11)\u001b[K\rremote: Counting objects:  72% (8/11)\u001b[K\rremote: Counting objects:  81% (9/11)\u001b[K\rremote: Counting objects:  90% (10/11)\u001b[K\rremote: Counting objects: 100% (11/11)\u001b[K\rremote: Counting objects: 100% (11/11), done.\u001b[K\n",
            "remote: Compressing objects:  16% (1/6)\u001b[K\rremote: Compressing objects:  33% (2/6)\u001b[K\rremote: Compressing objects:  50% (3/6)\u001b[K\rremote: Compressing objects:  66% (4/6)\u001b[K\rremote: Compressing objects:  83% (5/6)\u001b[K\rremote: Compressing objects: 100% (6/6)\u001b[K\rremote: Compressing objects: 100% (6/6), done.\u001b[K\n",
            "remote: Total 8 (delta 4), reused 0 (delta 0), pack-reused 0\u001b[K\n",
            "Unpacking objects: 100% (8/8), done.\n",
            "From https://github.com/DataParadox/iTrustBD\n",
            "   03523e1..73597ab  main       -> origin/main\n",
            "Updating 03523e1..73597ab\n",
            "Fast-forward\n",
            " Codes/iTrustBD.ipynb | 222 \u001b[32m++++++++++++++++++++++++++++++\u001b[m\u001b[31m---------------------\u001b[m\n",
            " 1 file changed, 129 insertions(+), 93 deletions(-)\n"
          ]
        }
      ]
    },
    {
      "cell_type": "markdown",
      "source": [
        "# Set Datasets"
      ],
      "metadata": {
        "id": "xTabGOXrOBxd"
      }
    },
    {
      "cell_type": "code",
      "source": [
        "def setDatasets(dataset):           # dataset -> Name of the dataset, i.e. 'soc-sign-bitcoinalpha-dataset' \n",
        "  import pandas as pd\n",
        "  \n",
        "  nodeTable = pd.read_csv('./BTC-Alpha/'+dataset+'-nodes-table.csv')\n",
        "  edgeTable = pd.read_csv('./BTC-Alpha/'+dataset+'-edge-table.csv')\n",
        "  nodeTable['behavior'] = nodeTable['Class']\n",
        "\n",
        "  edgeTableTargetSource = edgeTable[['Target', 'Source']].astype(str)\n",
        "  neighborTableIn = edgeTableTargetSource.groupby(['Target'], as_index=False).agg(lambda col: ', '.join(col))\n",
        "  neighborTableIn.columns = neighborTableIn.columns.str.replace('Source', 'Neighbors')\n",
        "\n",
        "  neighborTableOut = edgeTableTargetSource.groupby(['Source'], as_index=False).agg(lambda col: ', '.join(col))\n",
        "  neighborTableOut.columns = neighborTableOut.columns.str.replace('Target', 'Neighbors')\n",
        "\n",
        "  return nodeTable, edgeTable, neighborTableIn, neighborTableOut"
      ],
      "metadata": {
        "id": "buizkBgvOBEp"
      },
      "execution_count": null,
      "outputs": []
    },
    {
      "cell_type": "markdown",
      "source": [
        "# Generate Random Probability"
      ],
      "metadata": {
        "id": "CCdk5SRvLyR_"
      }
    },
    {
      "cell_type": "code",
      "source": [
        "def randProbability(min, max):\n",
        "  # generate random floating point values\n",
        "  import random\n",
        "  return min + (random.random() * (max - min))"
      ],
      "metadata": {
        "id": "mLbAN59TIXMd"
      },
      "execution_count": null,
      "outputs": []
    },
    {
      "cell_type": "markdown",
      "source": [
        "# Behavior Spread Based on Mutation Factor"
      ],
      "metadata": {
        "id": "L6HUTSOTM9Uc"
      }
    },
    {
      "cell_type": "code",
      "source": [
        "def behaviorSpreadMutate(): #nodeTable\n",
        "  import random\n",
        "  meu_m = randProbability(0, 0.01)                                     # Random mutation factor generation in the range of (0, 0.01)\n",
        "  for trader in nodeTable.index:\n",
        "    if nodeTable.iloc[trader].Class == 0:\n",
        "      if randProbability(0, 1) > (1-meu_m):                           # If cross the threshold of meu_m\n",
        "        nodeTable.at[trader, 'behavior'] =  random.choice([-1, 0, 1])   # Change behavior randomly       nodeTable.iloc[trader].behavior\n",
        "  #return nodeTable "
      ],
      "metadata": {
        "id": "2NzUcQZDM84T"
      },
      "execution_count": null,
      "outputs": []
    },
    {
      "cell_type": "markdown",
      "source": [
        "# Behavior Spread Based on Neighbors"
      ],
      "metadata": {
        "id": "1RwKXHS8O8YF"
      }
    },
    {
      "cell_type": "code",
      "source": [
        "def behaviorSpreadNeighbors(): #nodeTable, neighborTableIn\n",
        "  import random\n",
        "  gamma = randProbability(0, 0.05)       # Random transmission rate generation in the range of (0, 0.05)\n",
        "  for trader in nodeTable.index:\n",
        "    if nodeTable.iloc[trader].Class == 0:\n",
        "      if randProbability(0, 1) > (1-gamma):\n",
        "        try:\n",
        "          random_neighbor = random.choice(list(map(int, neighborTableIn.loc[neighborTableIn['Target'].astype(int) == nodeTable.iloc[trader].Id.astype(int)]['Neighbors'].item().split(\",\"))))\n",
        "          #print(nodeTable.iloc[trader].Id.item(), random_neighbor, 'A', list(map(int, neighborTableIn.loc[neighborTableIn['Target'].astype(int) == nodeTable.iloc[trader].Id.astype(int)]['Neighbors'].item().split(\",\"))))\n",
        "          nodeTable.at[trader, 'behavior'] =  int(nodeTable.loc[nodeTable['Id'].astype(int) == int(random_neighbor)].behavior.to_string(index=False))\n",
        "        except: #nodeTable.iloc[trader].behavior\n",
        "          pass\n",
        "  #return nodeTable"
      ],
      "metadata": {
        "id": "EoIiSI9tN2oM"
      },
      "execution_count": null,
      "outputs": []
    },
    {
      "cell_type": "markdown",
      "source": [
        "# Setting of Parameters"
      ],
      "metadata": {
        "id": "kuDUvDleUpke"
      }
    },
    {
      "cell_type": "code",
      "source": [
        "def setParameters():\n",
        "  beta_T = randProbability(0, 1)\n",
        "  beta_S = beta_T\n",
        "\n",
        "  meu_T = randProbability(0, beta_T)\n",
        "  meu_S = meu_T\n",
        "\n",
        "  return beta_T, beta_S, meu_T, meu_S"
      ],
      "metadata": {
        "id": "Kc7JaCmlU5_i"
      },
      "execution_count": null,
      "outputs": []
    },
    {
      "cell_type": "markdown",
      "source": [
        "# Calculating Propotion of Neighbors"
      ],
      "metadata": {
        "id": "DwwBetVhV9Pu"
      }
    },
    {
      "cell_type": "code",
      "source": [
        "def neighborProportion(nodeId): #nodeId, nodeTable, neighborTableIn, neighborTableOut\n",
        "  setNeighbor = set(list(map(int, neighborTableIn.loc[neighborTableIn['Target'].astype(int) == int(nodeId)]['Neighbors'].item().split(\",\"))))\n",
        "  setNeighbor = set(list(map(int, neighborTableOut.loc[neighborTableOut['Source'].astype(int) == int(nodeId)]['Neighbors'].item().split(\",\")))).union(setNeighbor)\n",
        "\n",
        "  countTrusty = 0\n",
        "  countSuspecious = 0\n",
        "  countNormal = 0\n",
        "\n",
        "  for neighbor in setNeighbor:\n",
        "    if int(nodeTable.loc[nodeTable['Id'].astype(int) == int(neighbor)].behavior.to_string(index=False)) == 0:\n",
        "      countNormal = countNormal + 1\n",
        "    elif int(nodeTable.loc[nodeTable['Id'].astype(int) == int(neighbor)].behavior.to_string(index=False)) == 1:\n",
        "      countTrusty = countTrusty + 1\n",
        "    else:\n",
        "      countSuspecious = countSuspecious + 1\n",
        "  \n",
        "  return countTrusty/(countTrusty+countNormal+countSuspecious), countNormal/(countTrusty+countNormal+countSuspecious), countSuspecious/(countTrusty+countNormal+countSuspecious)\n",
        "  #return sigma_T, sigma_N, sigma_S"
      ],
      "metadata": {
        "id": "hhGoJaSYV8uo"
      },
      "execution_count": null,
      "outputs": []
    },
    {
      "cell_type": "markdown",
      "source": [
        "# Susceptible-Infected-Susceptible (SIS) Model"
      ],
      "metadata": {
        "id": "lRHkDOvqQMDj"
      }
    },
    {
      "cell_type": "code",
      "source": [
        "def modelSIS(): #nodeTable, neighborTableIn, neighborTableOut\n",
        "  beta_T, beta_S, meu_T, meu_S = setParameters()\n",
        "  for index in nodeTable.index:\n",
        "    try:\n",
        "      sigma_T, sigma_N, sigma_S = neighborProportion(nodeTable.Id[index])\n",
        "      if(nodeTable.Id[index].astype(int) == 0):\n",
        "        if(nodeTable.behavior[index].astype(int) == 0):\n",
        "          P_NT = beta_T*sigma_T\n",
        "          P_NS = beta_S*sigma_S\n",
        "          if((P_NT >= P_NS) and (randProbability(0, 1) > (1 - P_NT))):\n",
        "            nodeTable.at[index, 'behavior'] = 1 #nodeTable.behavior[index] = 1\n",
        "          elif((P_NT < P_NS) and (randProbability(0, 1) > (1 - P_NS))):\n",
        "            nodeTable.at[index, 'behavior'] = -1 #nodeTable.behavior[index] = -1\n",
        "        elif((nodeTable.behavior[index].astype(int) == 1) and (randProbability(0, 1) > (1 - meu_T))):\n",
        "          nodeTable.at[index, 'behavior'] = 0 #nodeTable.behavior[index] = 0\n",
        "        elif((nodeTable.behavior[index].astype(int) == -1) and (randProbability(0, 1) > (1 - meu_S))):\n",
        "          nodeTable.at[index, 'behavior'] = 0 #nodeTable.behavior[index] = 0\n",
        "    except:\n",
        "      pass\n",
        "  #return nodeTable"
      ],
      "metadata": {
        "id": "3HtIai12QItb"
      },
      "execution_count": null,
      "outputs": []
    },
    {
      "cell_type": "markdown",
      "source": [
        "# Voter Model"
      ],
      "metadata": {
        "id": "LedKutTHQy2q"
      }
    },
    {
      "cell_type": "code",
      "source": [
        "def modelVoter(): #nodeTable, neighborTableIn, neighborTableOut\n",
        "  beta_T, beta_S, meu_T, meu_S = setParameters()\n",
        "  for index in nodeTable.index:\n",
        "    try:\n",
        "      sigma_T, sigma_N, sigma_S = neighborProportion(nodeTable.Id[index])\n",
        "      if(nodeTable.Id[index].astype(int) == 0):\n",
        "        if(nodeTable.behavior[index].astype(int) == 0):\n",
        "          P_NT = sigma_T * meu_T\n",
        "          P_NS = sigma_S * meu_S\n",
        "          if((P_NT >= P_NS) and (randProbability(0, 1) > (1 - P_NT))):\n",
        "            nodeTable.at[index, 'behavior'] = 1 #nodeTable.behavior[index] = 1\n",
        "          elif((P_NT < P_NS) and (randProbability(0, 1) > (1 - P_NS))):\n",
        "            nodeTable.at[index, 'behavior'] = -1 #nodeTable.behavior[index] = -1\n",
        "        elif(nodeTable.behavior[index].astype(int) == 1):\n",
        "          P_TN = sigma_S * beta_T\n",
        "          if(randProbability(0, 1) > (1 - P_TN)):\n",
        "            nodeTable.at[index, 'behavior'] = 0 #nodeTable.behavior[index] = 0\n",
        "        else:\n",
        "          P_SN = sigma_S * beta_S\n",
        "          if(randProbability(0, 1) > (1 - P_SN)):\n",
        "            nodeTable.at[index, 'behavior'] = 0 #nodeTable.behavior[index] = 0\n",
        "    except:\n",
        "      pass\n",
        "  #return nodeTable"
      ],
      "metadata": {
        "id": "vFr4wJ3NQnrp"
      },
      "execution_count": null,
      "outputs": []
    },
    {
      "cell_type": "markdown",
      "source": [
        "# Bilingual Model"
      ],
      "metadata": {
        "id": "UtrmdgbjQ6s8"
      }
    },
    {
      "cell_type": "code",
      "source": [
        "def modelBilingual(): #nodeTable, neighborTableIn, neighborTableOut\n",
        "  beta_T, beta_S, meu_T, meu_S = setParameters()\n",
        "  for index in nodeTable.index:\n",
        "    try:\n",
        "      sigma_T, sigma_N, sigma_S = neighborProportion(nodeTable.Id[index]) #nodeTable, neighborTableIn, neighborTableOut\n",
        "      if(nodeTable.Id[index].astype(int) == 0):\n",
        "        if(nodeTable.behavior[index].astype(int) == 0):\n",
        "          P_NT = (1 - sigma_S) * meu_T\n",
        "          P_NS = (1 - sigma_T) * meu_S\n",
        "          if((P_NT >= P_NS) and (randProbability(0, 1) > (1 - P_NT))):\n",
        "            nodeTable.at[index, 'behavior'] = 1 #nodeTable.behavior[index] = 1\n",
        "          elif((P_NT < P_NS) and (randProbability(0, 1) > (1 - P_NS))):\n",
        "            nodeTable.at[index, 'behavior'] = -1 #nodeTable.behavior[index] = -1\n",
        "        elif(nodeTable.behavior[index].astype(int) == 1):\n",
        "          P_TN = sigma_S * beta_T\n",
        "          if(randProbability(0, 1) > (1 - P_TN)):\n",
        "            nodeTable.at[index, 'behavior'] = 0 #nodeTable.behavior[index] = 0\n",
        "        else:\n",
        "          P_SN = sigma_T * beta_S\n",
        "          if(randProbability(0, 1) > (1 - P_SN)):\n",
        "            nodeTable.at[index, 'behavior'] = 0 #nodeTable.behavior[index] = 0\n",
        "    except:\n",
        "      pass\n",
        "  #return nodeTable"
      ],
      "metadata": {
        "id": "NGM3Q8QcQ5hW"
      },
      "execution_count": null,
      "outputs": []
    },
    {
      "cell_type": "markdown",
      "source": [
        "# Behavior Spread"
      ],
      "metadata": {
        "id": "-wy2j0djSBs7"
      }
    },
    {
      "cell_type": "code",
      "source": [
        "def behaviorSpread(dataset, total_epoch):\n",
        "  import pandas as pd\n",
        "  import random\n",
        "  global nodeTable, edgeTable, neighborTableIn, neighborTableOut\n",
        "  nodeTable, edgeTable, neighborTableIn, neighborTableOut = setDatasets(dataset)\n",
        "  filepath = '/content/drive/My Drive/PG/CSE6413 Network Science/Project Works/Datasets/Epoch_Out/node_table_our_{}.csv'.format(0)\n",
        "  nodeTable.to_csv(filepath, index=False)\n",
        "  epoch = 0\n",
        "  while epoch < total_epoch:\n",
        "    epoch = epoch + 1\n",
        "    behaviorSpreadNeighbors()\n",
        "    behaviorSpreadMutate()\n",
        "    try:\n",
        "      model = random.choice([1, 2, 3])\n",
        "      if(model == 1):\n",
        "        modelSIS()\n",
        "      elif(model == 2):\n",
        "        modelVoter()\n",
        "      else:\n",
        "        modelBilingual()\n",
        "    except:\n",
        "      pass\n",
        "    filepath = '/content/drive/My Drive/PG/CSE6413 Network Science/Project Works/Datasets/Epoch_Out/node_table_our_{}.csv'.format(epoch)\n",
        "    nodeTable.to_csv(filepath, index=False)\n",
        "\n",
        "    #for i in neutral_traders:\n",
        "      # Select a random neighbor j with probability proportional to in_degree.\n",
        "      #if i neutral & j not neutral:\n",
        "        # i can assume the state of j under the rules of the model\n",
        "      #elif i not neutral:\n",
        "          # set i neutral under the rules of the model"
      ],
      "metadata": {
        "id": "jeAcCxDeRDSW"
      },
      "execution_count": null,
      "outputs": []
    },
    {
      "cell_type": "code",
      "source": [
        "dataset = 'soc-sign-bitcoinalpha-dataset'\n",
        "behaviorSpread(dataset, total_epoch=100)"
      ],
      "metadata": {
        "id": "2UnDpkRIUimo"
      },
      "execution_count": null,
      "outputs": []
    },
    {
      "cell_type": "code",
      "source": [],
      "metadata": {
        "id": "izFr9z4Dh_8z"
      },
      "execution_count": null,
      "outputs": []
    }
  ]
}